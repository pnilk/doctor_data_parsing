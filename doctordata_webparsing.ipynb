{
 "cells": [
  {
   "cell_type": "markdown",
   "metadata": {},
   "source": [
    "A class to hold the simple structure of doctor details"
   ]
  },
  {
   "cell_type": "code",
   "execution_count": 18,
   "metadata": {},
   "outputs": [],
   "source": [
    "class DoctorDetails():\n",
    "\n",
    "    def __init__(self, name, city):\n",
    "\n",
    "        self.name = name\n",
    "        self.city = city\n",
    "       "
   ]
  },
  {
   "cell_type": "markdown",
   "metadata": {},
   "source": [
    "Code to extract all the doctor's data from vaidam's website by parsing the webpages"
   ]
  },
  {
   "cell_type": "code",
   "execution_count": 10,
   "metadata": {},
   "outputs": [],
   "source": [
    "import requests\n",
    "import urllib.request\n",
    "import time\n",
    "import json\n",
    "from bs4 import BeautifulSoup\n",
    "doctor_list=[]\n",
    "for i in range(1,46):\n",
    "    url = f'https://www.vaidam.com/doctors/cardiology-and-cardiac-surgery/india?page={i}'\n",
    "    response = requests.get(url)\n",
    "    soup = BeautifulSoup(response.text, \"html.parser\")\n",
    "    test=soup.find_all('script', type='application/ld+json')\n",
    "\n",
    "    for a in test:\n",
    "        buff = json.loads(a.text)\n",
    "        if buff['@type'] == 'Physician':\n",
    "            doctor_list.append(DoctorDetails(buff['name'],buff['address']['addressRegion']))\n",
    "\n",
    "\n"
   ]
  },
  {
   "cell_type": "markdown",
   "metadata": {},
   "source": [
    "Code to extract all the doctor's data from medindia's website by parsing the webpages"
   ]
  },
  {
   "cell_type": "code",
   "execution_count": 19,
   "metadata": {},
   "outputs": [],
   "source": [
    "doclist= []\n",
    "for i in range(1,110):\n",
    "    url = f'https://www.medindia.net/patients/doctor_search/dr_result.asp?alpha=&page={i}&dr_name=&city=&state=&pincode=&Specialist=Cardiology'\n",
    "    response = requests.get(url)\n",
    "    soup = BeautifulSoup(response.text, \"html.parser\")\n",
    "    articles = soup.find_all('article')\n",
    "    for para in articles:\n",
    "        name = para.find(\"h3\", {'class': 'vert-small-margin'}).text\n",
    "        city = para.find('p').text\n",
    "        doclist.append(DoctorDetails(name,city))\n"
   ]
  },
  {
   "cell_type": "markdown",
   "metadata": {},
   "source": [
    "A csv file is being created below to merge all data got after running the above 2 codes ( for webpages Vaidam and Medindia)"
   ]
  },
  {
   "cell_type": "code",
   "execution_count": 14,
   "metadata": {},
   "outputs": [],
   "source": [
    "import csv\n",
    "with open('doctor_data.csv', 'w',) as csvfile:\n",
    "    writer = csv.writer(csvfile)\n",
    "    writer.writerow(['Name', 'City'])\n",
    "    for doctor in doctor_list:\n",
    "        writer.writerow([doctor.name, doctor.city])\n",
    "    for doctor in doclist:\n",
    "        writer.writerow([doctor.name, doctor.city])"
   ]
  },
  {
   "cell_type": "code",
   "execution_count": null,
   "metadata": {},
   "outputs": [],
   "source": []
  }
 ],
 "metadata": {
  "kernelspec": {
   "display_name": "conda_python3",
   "language": "python",
   "name": "conda_python3"
  },
  "language_info": {
   "codemirror_mode": {
    "name": "ipython",
    "version": 3
   },
   "file_extension": ".py",
   "mimetype": "text/x-python",
   "name": "python",
   "nbconvert_exporter": "python",
   "pygments_lexer": "ipython3",
   "version": "3.6.10"
  }
 },
 "nbformat": 4,
 "nbformat_minor": 4
}
